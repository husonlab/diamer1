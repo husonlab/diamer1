{
 "cells": [
  {
   "cell_type": "markdown",
   "source": [
    "# Comparison of different reference databases"
   ],
   "metadata": {
    "collapsed": false
   }
  },
  {
   "cell_type": "code",
   "execution_count": null,
   "metadata": {
    "collapsed": true,
    "pycharm": {
     "is_executing": true
    }
   },
   "outputs": [],
   "source": [
    "# imports\n",
    "import pandas as pd\n",
    "import matplotlib.pyplot as plt\n",
    "from util import *\n",
    "\n",
    "# set path to data folder\n",
    "root = \"F:/Studium/Master/semester5/thesis/data/dataset/\"\n",
    "\n",
    "# definition of the true positive species\n",
    "species = {\n",
    "    \"Pseudomonas aeruginosa\",\n",
    "    \"Escherichia coli\",\n",
    "    \"Salmonella enterica\",\n",
    "    \"Staphylococcus aureus\",\n",
    "    \"Limosilactobacillus fermentum\",\n",
    "    \"Enterococcus faecalis\",\n",
    "    \"Listeria monocytogenes\",\n",
    "    \"Bacillus subtilis\",\n",
    "    \"Saccharomyces cerevisiae\",\n",
    "    \"Cryptococcus neoformans\"}\n",
    "\n",
    "# total read count in zymoMock dataset\n",
    "total = 1_160_526\n",
    "# reading the taxonomic tree\n",
    "tree = Tree(root + \"tree_nr.txt\")\n",
    "# generate dictionary with all taxa that are true positives for each taxonomic rank\n",
    "true_taxons = get_true_taxons_for_all_ranks(tree, species)"
   ]
  },
  {
   "cell_type": "code",
   "execution_count": null,
   "outputs": [],
   "source": [
    "# reading in datasets\n",
    "data_nr50 = read_per_taxon_assignment(root + \"zymo_mock/assignment_nr50_uniform11s_13-mer/per_taxon_assignments.tsv\", kmer_threshold=1, ovo_1_threshold=0)\n",
    "data_nr90 = read_per_taxon_assignment(root + \"zymo_mock/assignment_nr90_uniform11s_13-mer/per_taxon_assignments.tsv\", kmer_threshold=1, ovo_1_threshold=0)\n",
    "data_nr = read_per_taxon_assignment(root + \"zymo_mock/assignment_nr_uniform11s_13-mer/per_taxon_assignments.tsv\", kmer_threshold=1, ovo_1_threshold=0)\n",
    "\n",
    "# add column with labels for the true positives\n",
    "data_nr50 = classify_assigned_taxa(data_nr50, true_taxons)\n",
    "data_nr90 = classify_assigned_taxa(data_nr90, true_taxons)\n",
    "data_nr = classify_assigned_taxa(data_nr, true_taxons)\n",
    "\n",
    "# transform algorithm columns into one column with algorithm, parameter and used data\n",
    "data_nr50 = extract_algorithm_info(data_nr50)\n",
    "data_nr90 = extract_algorithm_info(data_nr90)\n",
    "data_nr = extract_algorithm_info(data_nr)\n",
    "\n",
    "# calculate the precision and recall for each algorithm-parameter-data combination and each rank\n",
    "data_nr50 = get_precision_recall_reads(data_nr50, total)\n",
    "data_nr90 = get_precision_recall_reads(data_nr90, total)\n",
    "data_nr = get_precision_recall_reads(data_nr, total)\n",
    "\n",
    "data_nr"
   ],
   "metadata": {
    "collapsed": false
   }
  },
  {
   "cell_type": "code",
   "execution_count": null,
   "outputs": [],
   "source": [
    "data_nr50_filtered = data_nr50[(data_nr50[\"algorithm\"] == \"OVA\") & (data_nr50[\"algorithm parameter\"] == 0.5) & (data_nr50[\"algorithm data\"] == \"kmer count (cumulative)\")]\n",
    "data_nr90_filtered = data_nr90[(data_nr90[\"algorithm\"] == \"OVA\") & (data_nr90[\"algorithm parameter\"] == 0.5) & (data_nr90[\"algorithm data\"] == \"kmer count (cumulative)\")]\n",
    "data_nr_filtered = data_nr[(data_nr[\"algorithm\"] == \"OVA\") & (data_nr[\"algorithm parameter\"] == 0.5) & (data_nr[\"algorithm data\"] == \"kmer count (cumulative)\")]\n",
    "data_nr90_filtered"
   ],
   "metadata": {
    "collapsed": false
   }
  },
  {
   "cell_type": "code",
   "execution_count": null,
   "outputs": [],
   "source": [
    "colors = [\"red\", \"lightcoral\", \"gold\", \"yellow\", \"royalblue\", \"cornflowerblue\", \"lightsteelblue\", \"lavender\", \"darkgreen\", \"seagreen\", \"mediumseagreen\", \"darkseagreen\", \"mintcream\"]\n",
    "\n",
    "plt.figure(figsize=(5, 5), dpi=200)\n",
    "\n",
    "for i, rank in enumerate([\"species\", \"genus\", \"family\", \"order\"]):\n",
    "    data_filtered = data_nr50_filtered[data_nr50_filtered[\"rank\"] == rank]\n",
    "    plt.scatter(\n",
    "        data_filtered[\"recall\"],\n",
    "        data_filtered[\"precision\"],\n",
    "        label=\"nr50\" + \" \" + rank,\n",
    "        color=colors[i],\n",
    "    )\n",
    "for i, rank in enumerate([\"species\", \"genus\", \"family\", \"order\"]):\n",
    "    data_filtered = data_nr90_filtered[data_nr90_filtered[\"rank\"] == rank]\n",
    "    plt.scatter(\n",
    "        data_filtered[\"recall\"],\n",
    "        data_filtered[\"precision\"],\n",
    "        label=\"nr90\" + \" \" + rank,\n",
    "        color=colors[i+4],\n",
    "    )\n",
    "for i, rank in enumerate([\"species\", \"genus\", \"family\", \"order\"]):\n",
    "    data_filtered = data_nr_filtered[data_nr_filtered[\"rank\"] == rank]\n",
    "    plt.scatter(\n",
    "        data_filtered[\"recall\"],\n",
    "        data_filtered[\"precision\"],\n",
    "        label=\"nr\" + \" \" + rank,\n",
    "        color=colors[i+8],\n",
    "    )\n",
    "plt.xlim(0, 1)\n",
    "plt.xticks(np.arange(0, 1.01, 0.1))\n",
    "plt.ylim(0, 1)\n",
    "plt.yticks(np.arange(0, 1.01, 0.1))\n",
    "plt.xlabel(\"Recall\")\n",
    "plt.ylabel(\"Precision\")\n",
    "plt.title(\"Different Reference Databases for DIAMER\")\n",
    "plt.legend(loc=\"lower right\")\n",
    "plt.show()"
   ],
   "metadata": {
    "collapsed": false
   }
  }
 ],
 "metadata": {
  "kernelspec": {
   "display_name": "Python 3",
   "language": "python",
   "name": "python3"
  },
  "language_info": {
   "codemirror_mode": {
    "name": "ipython",
    "version": 2
   },
   "file_extension": ".py",
   "mimetype": "text/x-python",
   "name": "python",
   "nbconvert_exporter": "python",
   "pygments_lexer": "ipython2",
   "version": "2.7.6"
  }
 },
 "nbformat": 4,
 "nbformat_minor": 0
}
