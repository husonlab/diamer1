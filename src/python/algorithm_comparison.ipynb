{
 "cells": [
  {
   "cell_type": "markdown",
   "source": [
    "# Comparison of different Classification algorithms and parameters\n",
    "In this notebook, plots will be created to compare the classification algorithms OVO and OVA.\n",
    "Furthermore, the thresholds for those algorithms will be examined.\n",
    "The results for the zymoMock dataset with kraken 2 and DIAMER with the uniform11s alphabet and a "
   ],
   "metadata": {
    "collapsed": false
   }
  },
  {
   "cell_type": "code",
   "execution_count": null,
   "metadata": {
    "collapsed": true
   },
   "outputs": [],
   "source": [
    "# imports\n",
    "import numpy as np\n",
    "import pandas as pd\n",
    "import matplotlib.pyplot as plt\n",
    "import seaborn as sns\n",
    "import os\n",
    "from util import *\n",
    "from sklearn.metrics import auc\n",
    "from threading import Thread\n",
    "\n",
    "# set path to data folder\n",
    "root = \"F:/Studium/Master/semester5/thesis/data/\"\n",
    "\n",
    "# definition of the true positive species\n",
    "species = {\n",
    "    \"Pseudomonas aeruginosa\",\n",
    "    \"Escherichia coli\",\n",
    "    \"Salmonella enterica\",\n",
    "    \"Staphylococcus aureus\",\n",
    "    \"Limosilactobacillus fermentum\",\n",
    "    \"Enterococcus faecalis\",\n",
    "    \"Listeria monocytogenes\",\n",
    "    \"Bacillus subtilis\",\n",
    "    \"Saccharomyces cerevisiae\",\n",
    "    \"Cryptococcus neoformans\"}\n",
    "\n",
    "# total read count in zymoMock dataset\n",
    "total = 1_160_526\n",
    "# reading the taxonomic tree\n",
    "tree = Tree(\"F:/Studium/Master/semester5/thesis/data/NCBI/taxdmp/tree_nr.txt\")\n",
    "# generate dictionary with all taxa that are true positives for each taxonomic rank\n",
    "true_taxons = get_true_taxons_for_all_ranks(tree, species)"
   ]
  },
  {
   "cell_type": "code",
   "execution_count": null,
   "outputs": [],
   "source": [],
   "metadata": {
    "collapsed": false
   }
  }
 ],
 "metadata": {
  "kernelspec": {
   "display_name": "Python 3",
   "language": "python",
   "name": "python3"
  },
  "language_info": {
   "codemirror_mode": {
    "name": "ipython",
    "version": 2
   },
   "file_extension": ".py",
   "mimetype": "text/x-python",
   "name": "python",
   "nbconvert_exporter": "python",
   "pygments_lexer": "ipython2",
   "version": "2.7.6"
  }
 },
 "nbformat": 4,
 "nbformat_minor": 0
}
